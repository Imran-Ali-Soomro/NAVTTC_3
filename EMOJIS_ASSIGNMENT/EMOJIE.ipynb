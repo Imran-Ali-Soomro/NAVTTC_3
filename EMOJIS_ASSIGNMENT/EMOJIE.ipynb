{
 "cells": [
  {
   "cell_type": "code",
   "execution_count": 682,
   "metadata": {},
   "outputs": [],
   "source": [
    "import numpy as np\n",
    "import cv2 as cv"
   ]
  },
  {
   "cell_type": "code",
   "execution_count": 683,
   "metadata": {},
   "outputs": [],
   "source": [
    "emoji=np.zeros((400,400,3),dtype='uint8')\n",
    "emoji[:]=(160,160,160)"
   ]
  },
  {
   "cell_type": "code",
   "execution_count": 684,
   "metadata": {},
   "outputs": [],
   "source": [
    "text=cv.putText(emoji,'RELIEVED FACE',(50,50),cv.FONT_HERSHEY_TRIPLEX,1,(51,0,25),4)\n",
    "face=cv.circle(emoji,(200,200),100,(0,190,255),-1)"
   ]
  },
  {
   "cell_type": "code",
   "execution_count": 685,
   "metadata": {},
   "outputs": [],
   "source": [
    "eye=cv.ellipse(face,(150,160),(25,10),0,180,360,(0,0,0),2)\n",
    "eye2=cv.ellipse(eye,(150,170),(17,13),0,20,160,(0,0,0),3)\n",
    "eye1=cv.ellipse(eye2,(250,160),(25,10),0,180,360,(0,0,0),2)\n",
    "eye3=cv.ellipse(eye1,(250,170),(17,13),0,20,160,(0,0,0),3)\n",
    "smile=cv.ellipse(eye3,(200,220),(40,25),0,0,180,(0,0,0),4)"
   ]
  },
  {
   "cell_type": "code",
   "execution_count": 686,
   "metadata": {},
   "outputs": [],
   "source": [
    "emoji_2=np.zeros((400,500,3),dtype='uint8')\n",
    "emoji_2[:]=(160,160,160)"
   ]
  },
  {
   "cell_type": "code",
   "execution_count": 687,
   "metadata": {},
   "outputs": [],
   "source": [
    "text=cv.putText(emoji_2,'SIMILY FACE WITH HALO',(5,50),cv.FONT_HERSHEY_COMPLEX,1,(51,0,25),4)\n",
    "face=cv.circle(emoji_2,(200,250),100,(0,190,255),-1)\n",
    "halo=cv.ellipse(face,(200,160),(80,20),0,0,360,(235,206,135),5)"
   ]
  },
  {
   "cell_type": "code",
   "execution_count": 688,
   "metadata": {},
   "outputs": [],
   "source": [
    "eye=cv.ellipse(face,(150,210),(12,10),0,180,360,(0,0,0),5)\n",
    "eye_lash=cv.ellipse(face,(250,210),(12,10),0,180,360,(0,0,0),5)\n",
    "smile=cv.ellipse(face,(200,270),(45,30),0,0,180,(0,0,0),5)"
   ]
  },
  {
   "cell_type": "code",
   "execution_count": 689,
   "metadata": {},
   "outputs": [
    {
     "data": {
      "text/plain": [
       "-1"
      ]
     },
     "execution_count": 689,
     "metadata": {},
     "output_type": "execute_result"
    }
   ],
   "source": [
    "cv.imshow('Relieved Face Emoji',eye3)\n",
    "cv.imshow('SIMILY FACE WITH HALO',eye_lash)\n",
    "cv.waitKey(0)"
   ]
  }
 ],
 "metadata": {
  "interpreter": {
   "hash": "438124f7619a4fa8797c657c157e037c6b7e84bb1490431844a92a9b555c0b78"
  },
  "kernelspec": {
   "display_name": "Python 3.7.1 64-bit",
   "language": "python",
   "name": "python3"
  },
  "language_info": {
   "codemirror_mode": {
    "name": "ipython",
    "version": 3
   },
   "file_extension": ".py",
   "mimetype": "text/x-python",
   "name": "python",
   "nbconvert_exporter": "python",
   "pygments_lexer": "ipython3",
   "version": "3.7.1"
  },
  "orig_nbformat": 4
 },
 "nbformat": 4,
 "nbformat_minor": 2
}
